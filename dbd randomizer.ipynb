{
 "cells": [
  {
   "cell_type": "code",
   "execution_count": 1,
   "metadata": {},
   "outputs": [
    {
     "name": "stdout",
     "output_type": "stream",
     "text": [
      "Survivor: Yoichi Asakawa \n",
      "Perks: Parental Guidance, Better than New, Alert, Head On\n"
     ]
    }
   ],
   "source": [
    "import pandas as pd, random\n",
    "\n",
    "surv_url = pd.read_html('https://deadbydaylight.fandom.com/wiki/Survivors')\n",
    "killer_url = pd.read_html('https://deadbydaylight.fandom.com/wiki/Killers')\n",
    "\n",
    "columns = surv_url[5]['THE KILLERS']\n",
    "split_index = columns.tolist().index(\"THE SURVIVORS\")\n",
    "end_index = columns.tolist().index(\"LEGENDARY CHARACTERS\")\n",
    "survivors = [i for lists in surv_url[5].iloc[split_index+1:end_index, 1:6].values.tolist() for i in lists if str(i) != 'nan']\n",
    "killers = [i for lists in killer_url[6].iloc[:split_index, 1:6].values.tolist() for i in lists if str(i) != 'nan']\n",
    "\n",
    "def get_perks(url):\n",
    "  rand_perks = []\n",
    "  perk_list = url['Name'].tolist()\n",
    "  description = url['Description'].tolist()\n",
    "  for i in range(4):\n",
    "    rand_perks.append(perk_list[random.randint(0, len(perk_list)-1)])\n",
    "  return ', '.join(rand_perks)\n",
    "\n",
    "def get_rand(side, url):\n",
    "  rand_char = side[random.randint(0,len(side)-1)]\n",
    "  print(f'{k_or_s.capitalize()}: {rand_char} \\nPerks: {get_perks(url)}')\n",
    "\n",
    "k_or_s = input('Killer or Survivor?')\n",
    "if k_or_s.lower() == 'killer':\n",
    "  get_rand(killers, killer_url[4])\n",
    "elif k_or_s.lower() == 'survivor':\n",
    "  get_rand(survivors, surv_url[3])\n",
    "else:\n",
    "  print('Could not read input.')"
   ]
  }
 ],
 "metadata": {
  "kernelspec": {
   "display_name": "Python 3.10.1 64-bit",
   "language": "python",
   "name": "python3"
  },
  "language_info": {
   "codemirror_mode": {
    "name": "ipython",
    "version": 3
   },
   "file_extension": ".py",
   "mimetype": "text/x-python",
   "name": "python",
   "nbconvert_exporter": "python",
   "pygments_lexer": "ipython3",
   "version": "3.10.1"
  },
  "orig_nbformat": 4,
  "vscode": {
   "interpreter": {
    "hash": "e78d0cd716e991781d84b11b19aeeb2bc232e7a15d4f00575aafbb2d77c41fcf"
   }
  }
 },
 "nbformat": 4,
 "nbformat_minor": 2
}
